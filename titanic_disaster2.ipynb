{
 "cells": [
  {
   "attachments": {},
   "cell_type": "markdown",
   "metadata": {},
   "source": [
    "# Projeto de análise de dados do Titanic\n",
    "O objetivo deste projeto é analisar os dados do Titanic e tentar responder algumas perguntas sobre o naufrágio do navio. Para isso, utilizaremos a biblioteca Pandas para manipulação dos dados e a biblioteca Matplotlib para visualização dos dados. Para modelagem dos dados, utilizaremos a biblioteca Scikit-Learn."
   ]
  },
  {
   "cell_type": "code",
   "execution_count": null,
   "metadata": {},
   "outputs": [],
   "source": [
    "import pandas as pd\n",
    "from sklearn.tree import DecisionTreeClassifier\n",
    "from sklearn.ensemble import RandomForestClassifier\n",
    "from sklearn.linear_model import LogisticRegression\n",
    "from sklearn.neighbors import KNeighborsClassifier\n",
    "from sklearn.svm import SVC\n",
    "import numpy as np\n",
    "from tqdm import tqdm\n",
    "from sklearn.model_selection import GridSearchCV\n",
    "import warnings\n",
    "warnings.filterwarnings('ignore')"
   ]
  },
  {
   "cell_type": "code",
   "execution_count": null,
   "metadata": {},
   "outputs": [],
   "source": [
    "def preparedata(df):\n",
    "    from sklearn.preprocessing import MinMaxScaler\n",
    "    df['Title'] = df['Name'].str.extract(' ([A-Za-z]+)\\.', expand=False)\n",
    "    title_age_mean = df.groupby('Title')['Age'].mean()\n",
    "    title_age_mean = title_age_mean.to_dict()\n",
    "    df['Age'] = df.apply(lambda x: title_age_mean[x['Title']] if pd.isnull(x['Age']) else x['Age'], axis=1)\n",
    "    df['Age'] = df['Age'].fillna(df['Age'].mean())\n",
    "    df['Sex'] = (df['Sex']=='female').astype(int)\n",
    "    df.drop(['PassengerId', 'Name', 'Ticket', 'Cabin', 'Embarked', 'Title'], axis=1, inplace=True)\n",
    "    q3 = df['Fare'].quantile(0.75)\n",
    "    df.loc[df['Fare'] > q3, 'Fare'] = q3\n",
    "    df['Fare'] = df['Fare'].fillna(df['Fare'].mean())\n",
    "    scaler = MinMaxScaler()\n",
    "    df[['Age', 'Fare']] = scaler.fit_transform(df[['Age', 'Fare']])\n",
    "    return df"
   ]
  },
  {
   "cell_type": "code",
   "execution_count": 17,
   "metadata": {},
   "outputs": [],
   "source": [
    "def grafbarscores(*scores):\n",
    "    import matplotlib.pyplot as plt\n",
    "    import seaborn as sns\n",
    "    import warnings\n",
    "    warnings.filterwarnings('ignore')\n",
    "    df_scores = pd.DataFrame(columns=['Model', 'Score'])\n",
    "    for score in scores:\n",
    "        df_scores.loc[len(df_scores)] = [score[0], score[1]]\n",
    "    fig, ax = plt.subplots()\n",
    "    sns.barplot(x='Score', y='Model', data=df_scores.sort_values(by='Score', ascending=False), ax=ax)\n",
    "    ax.set_xlim([0, 1])\n",
    "    for p in ax.patches:\n",
    "        ax.annotate(\"%.4f\" % p.get_width(), (p.get_x() + p.get_width(), p.get_y()+0.65), xytext=(5, 10), textcoords='offset points')\n",
    "    plt.xlabel('Score (accuracy)')\n",
    "    plt.ylabel('Model')\n",
    "    plt.title('Machine Learning Model Scores')\n",
    "    plt.show()"
   ]
  },
  {
   "cell_type": "code",
   "execution_count": null,
   "metadata": {},
   "outputs": [],
   "source": [
    "# Criando os Grids de parâmetros para cada modelo\n",
    "grid_dt = {'criterion': ['gini', 'entropy'],\n",
    "           'splitter': ['best', 'random'],\n",
    "           'max_depth': [2*n for n in range(1,10)],\n",
    "           'max_features': ['auto', 'sqrt'],\n",
    "           'min_samples_leaf': [1, 2, 4],\n",
    "           'min_samples_split': [2, 5, 10]}\n",
    "grid_rf = {'n_estimators': [100, 200, 300, 400, 500],\n",
    "              'criterion': ['gini', 'entropy'],\n",
    "                'max_depth': [2*n for n in range(1,10)],\n",
    "                'max_features': ['auto', 'sqrt'],\n",
    "                'min_samples_leaf': [1, 2, 4],\n",
    "                'min_samples_split': [2, 5, 10]}\n",
    "grid_lr = {'penalty': ['l1', 'l2'],\n",
    "              'C': [0.001, 0.01, 0.1, 1, 10, 100],  \n",
    "                'solver': ['newton-cg', 'lbfgs', 'liblinear', 'sag', 'saga']}\n",
    "grid_knn = {'n_neighbors': [2*n for n in range(1,10)],\n",
    "                'weights': ['uniform', 'distance'], \n",
    "                'algorithm': ['auto', 'ball_tree', 'kd_tree', 'brute']}\n",
    "grid_svm = {'C': [0.001, 0.01, 0.1, 1, 10, 100],\n",
    "                'kernel': ['linear', 'poly', 'rbf', 'sigmoid'],\n",
    "                'gamma': ['scale', 'auto']}\n",
    "# Criando os modelos\n",
    "dt = DecisionTreeClassifier()\n",
    "rf = RandomForestClassifier()\n",
    "lr = LogisticRegression()\n",
    "knn = KNeighborsClassifier()\n",
    "svm = SVC()\n",
    "# Criando os GridSearchCV\n",
    "gridcv_dt = GridSearchCV(dt, grid_dt, cv=5, scoring='accuracy')\n",
    "gridcv_lr = GridSearchCV(lr, grid_lr, cv=5, scoring='accuracy')\n",
    "gridcv_knn = GridSearchCV(knn, grid_knn, cv=5, scoring='accuracy')\n",
    "gridcv_svm = GridSearchCV(svm, grid_svm, cv=5, scoring='accuracy')\n",
    "\n"
   ]
  },
  {
   "cell_type": "code",
   "execution_count": null,
   "metadata": {},
   "outputs": [],
   "source": [
    "df_train = preparedata(pd.read_csv('./data/raw/train.csv'))\n",
    "df_train.to_csv('./data/processed/second_train.csv', index=False)\n",
    "df_test_pred = preparedata(pd.read_csv('./data/raw/test.csv'))\n",
    "df_test = pd.read_csv('./data/raw/test.csv')\n",
    "df_test_pred.to_csv('./data/processed/second_test.csv', index=False)"
   ]
  },
  {
   "cell_type": "code",
   "execution_count": null,
   "metadata": {},
   "outputs": [],
   "source": [
    "# vamos aplicar o modelo de machine learning: Decision Tree, Random Forest, Logistic Regression, KNN, SVM, Naive Bayes sem separar os dados em treino e teste\n",
    "models = []\n",
    "models.append(('Decision Tree', gridcv_dt))\n",
    "models.append(('Logistic Regression', gridcv_lr))\n",
    "models.append(('KNN', gridcv_knn))\n",
    "models.append(('SVM', gridcv_svm))\n",
    "\n",
    "results = []\n",
    "names = []\n",
    "desc = 'Machine Learning Model Scores'\n",
    "# criar um for usando tqdm para mostrar o progresso\n",
    "for name, model in tqdm(models, desc=desc):\n",
    "    model.fit(df_train.drop('Survived', axis=1), df_train['Survived'])\n",
    "    result = model.score(df_train.drop('Survived', axis=1), df_train['Survived'])\n",
    "    results.append(result)\n",
    "    names.append(name)\n",
    "    df_test['Survived'] = model.predict(df_test_pred)\n",
    "    df_test[['PassengerId', 'Survived']].to_csv('./data/submission/second_' + name + '.csv', index=False)\n"
   ]
  },
  {
   "cell_type": "code",
   "execution_count": 18,
   "metadata": {},
   "outputs": [
    {
     "data": {
      "image/png": "[encoded data removed]",
      "text/plain": [
       "<Figure size 640x480 with 1 Axes>"
      ]
     },
     "metadata": {},
     "output_type": "display_data"
    }
   ],
   "source": [
    "grafbarscores(*zip(names, results))"
   ]
  },
  {
   "cell_type": "code",
   "execution_count": 20,
   "metadata": {},
   "outputs": [],
   "source": [
    "# vamos gerar os arquivos de submissão para o melhor modelo de Decision Tree\n",
    "df_test['Survived'] = gridcv_dt.predict(df_test_pred)\n",
    "df_test[['PassengerId', 'Survived']].to_csv('./data/submission/second_best_model.csv', index=False)"
   ]
  },
  {
   "cell_type": "code",
   "execution_count": 21,
   "metadata": {},
   "outputs": [
    {
     "name": "stderr",
     "output_type": "stream",
     "text": [
      "Machine Learning Model Scores: 100%|██████████| 4/4 [00:00<00:00, 141.40it/s]\n"
     ]
    }
   ],
   "source": [
    "# vamos gerar os arquivos de submissão para todos os modelos\n",
    "for name, model in tqdm(models, desc=desc):\n",
    "    df_test['Survived'] = model.predict(df_test_pred)\n",
    "    df_test[['PassengerId', 'Survived']].to_csv('./data/submission/second_' + name + '.csv', index=False)\n"
   ]
  },
  {
   "cell_type": "code",
   "execution_count": null,
   "metadata": {},
   "outputs": [],
   "source": []
  }
 ],
 "metadata": {
  "kernelspec": {
   "display_name": "Python 3",
   "language": "python",
   "name": "python3"
  },
  "language_info": {
   "codemirror_mode": {
    "name": "ipython",
    "version": 3
   },
   "file_extension": ".py",
   "mimetype": "text/x-python",
   "name": "python",
   "nbconvert_exporter": "python",
   "pygments_lexer": "ipython3",
   "version": "3.11.3"
  },
  "orig_nbformat": 4
 },
 "nbformat": 4,
 "nbformat_minor": 2
}
